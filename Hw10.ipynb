{
  "nbformat": 4,
  "nbformat_minor": 0,
  "metadata": {
    "colab": {
      "provenance": [],
      "authorship_tag": "ABX9TyM3gcNZCqgIBx5ItO41cuVw",
      "include_colab_link": true
    },
    "kernelspec": {
      "name": "python3",
      "display_name": "Python 3"
    },
    "language_info": {
      "name": "python"
    }
  },
  "cells": [
    {
      "cell_type": "markdown",
      "metadata": {
        "id": "view-in-github",
        "colab_type": "text"
      },
      "source": [
        "<a href=\"https://colab.research.google.com/github/OleksiiLozovyi/goit-ds-hw-10/blob/main/Hw10.ipynb\" target=\"_parent\"><img src=\"https://colab.research.google.com/assets/colab-badge.svg\" alt=\"Open In Colab\"/></a>"
      ]
    },
    {
      "cell_type": "code",
      "source": [
        "!pip install scikit-surprise\n"
      ],
      "metadata": {
        "colab": {
          "base_uri": "https://localhost:8080/"
        },
        "id": "a9graZe8q-ii",
        "outputId": "f474e894-a6d7-44e8-cd10-a6e2a6907aaa"
      },
      "execution_count": null,
      "outputs": [
        {
          "output_type": "stream",
          "name": "stdout",
          "text": [
            "Collecting scikit-surprise\n",
            "  Downloading scikit_surprise-1.1.4.tar.gz (154 kB)\n",
            "\u001b[?25l     \u001b[90m━━━━━━━━━━━━━━━━━━━━━━━━━━━━━━━━━━━━━━━━\u001b[0m \u001b[32m0.0/154.4 kB\u001b[0m \u001b[31m?\u001b[0m eta \u001b[36m-:--:--\u001b[0m\r\u001b[2K     \u001b[91m━━━━━━━━━━━━━━━━━━━━━━━━━━━━━━━━━━━━━━━\u001b[0m\u001b[91m╸\u001b[0m \u001b[32m153.6/154.4 kB\u001b[0m \u001b[31m4.6 MB/s\u001b[0m eta \u001b[36m0:00:01\u001b[0m\r\u001b[2K     \u001b[90m━━━━━━━━━━━━━━━━━━━━━━━━━━━━━━━━━━━━━━━━\u001b[0m \u001b[32m154.4/154.4 kB\u001b[0m \u001b[31m3.4 MB/s\u001b[0m eta \u001b[36m0:00:00\u001b[0m\n",
            "\u001b[?25h  Installing build dependencies ... \u001b[?25l\u001b[?25hdone\n",
            "  Getting requirements to build wheel ... \u001b[?25l\u001b[?25hdone\n",
            "  Preparing metadata (pyproject.toml) ... \u001b[?25l\u001b[?25hdone\n",
            "Requirement already satisfied: joblib>=1.2.0 in /usr/local/lib/python3.10/dist-packages (from scikit-surprise) (1.4.2)\n",
            "Requirement already satisfied: numpy>=1.19.5 in /usr/local/lib/python3.10/dist-packages (from scikit-surprise) (1.26.4)\n",
            "Requirement already satisfied: scipy>=1.6.0 in /usr/local/lib/python3.10/dist-packages (from scikit-surprise) (1.13.1)\n",
            "Building wheels for collected packages: scikit-surprise\n",
            "  Building wheel for scikit-surprise (pyproject.toml) ... \u001b[?25l\u001b[?25hdone\n",
            "  Created wheel for scikit-surprise: filename=scikit_surprise-1.1.4-cp310-cp310-linux_x86_64.whl size=2357293 sha256=6a903b1af31a2a72e1d073f4e6deacb30da4ead9e5c8fecb69c3d1547d5d8830\n",
            "  Stored in directory: /root/.cache/pip/wheels/4b/3f/df/6acbf0a40397d9bf3ff97f582cc22fb9ce66adde75bc71fd54\n",
            "Successfully built scikit-surprise\n",
            "Installing collected packages: scikit-surprise\n",
            "Successfully installed scikit-surprise-1.1.4\n",
            "Surprise успішно встановлено!\n"
          ]
        }
      ]
    },
    {
      "cell_type": "code",
      "execution_count": null,
      "metadata": {
        "colab": {
          "base_uri": "https://localhost:8080/"
        },
        "id": "yl3yFgcrqsw_",
        "outputId": "fb6ff8c6-e51d-4f81-c5b1-faea7d7facd5"
      },
      "outputs": [
        {
          "output_type": "stream",
          "name": "stdout",
          "text": [
            "Dataset ml-100k could not be found. Do you want to download it? [Y/n] y\n",
            "Trying to download dataset from https://files.grouplens.org/datasets/movielens/ml-100k.zip...\n",
            "Done! Dataset ml-100k has been saved to /root/.surprise_data/ml-100k\n",
            "Evaluating SVD...\n",
            "Evaluating SVD++...\n",
            "Evaluating NMF...\n",
            "\n",
            "Model: SVD\n",
            "Best Parameters: {'n_factors': 100, 'n_epochs': 30, 'lr_all': 0.01, 'reg_all': 0.1}\n",
            "Best RMSE: 0.9123529113755454\n",
            "\n",
            "Model: SVD++\n",
            "Best Parameters: {'n_factors': 20, 'n_epochs': 20}\n",
            "Best RMSE: 0.91978416717003\n",
            "\n",
            "Model: NMF\n",
            "Best Parameters: {'n_factors': 50, 'n_epochs': 100, 'reg_pu': 0.1, 'reg_qi': 0.1}\n",
            "Best RMSE: 0.9249697872758734\n"
          ]
        }
      ],
      "source": [
        "from surprise import SVD, SVDpp, NMF, Dataset\n",
        "from surprise.model_selection import cross_validate, GridSearchCV\n",
        "\n",
        "data = Dataset.load_builtin('ml-100k')\n",
        "\n",
        "def evaluate_model(algo, param_grid=None):\n",
        "    if param_grid:\n",
        "        grid_search = GridSearchCV(algo, param_grid, measures=['rmse', 'mae'], cv=5)\n",
        "        grid_search.fit(data)\n",
        "        best_params = grid_search.best_params['rmse']\n",
        "        best_score = grid_search.best_score['rmse']\n",
        "        return best_params, best_score\n",
        "    else:\n",
        "        results = cross_validate(algo, data, measures=['RMSE', 'MAE'], cv=5, verbose=True)\n",
        "        return results\n",
        "\n",
        "models = {\n",
        "    \"SVD\": (SVD, {'n_factors': [50, 100], 'n_epochs': [20, 30], 'lr_all': [0.005, 0.01], 'reg_all': [0.02, 0.1]}),\n",
        "    \"SVD++\": (SVDpp, {'n_factors': [20, 50], 'n_epochs': [10, 20]}),\n",
        "    \"NMF\": (NMF, {'n_factors': [10, 20, 50], 'n_epochs': [50, 100], 'reg_pu': [0.06, 0.1], 'reg_qi': [0.06, 0.1]})\n",
        "}\n",
        "\n",
        "results = {}\n",
        "for model_name, (algo, params) in models.items():\n",
        "    print(f\"Evaluating {model_name}...\")\n",
        "    best_params, best_score = evaluate_model(algo, params)\n",
        "    results[model_name] = {'Best Params': best_params, 'Best RMSE': best_score}\n",
        "\n",
        "for model, result in results.items():\n",
        "    print(f\"\\nModel: {model}\")\n",
        "    print(f\"Best Parameters: {result['Best Params']}\")\n",
        "    print(f\"Best RMSE: {result['Best RMSE']}\")"
      ]
    }
  ]
}